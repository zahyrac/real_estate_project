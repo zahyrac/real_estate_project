{
 "cells": [
  {
   "cell_type": "code",
   "execution_count": 1,
   "id": "de161d39",
   "metadata": {},
   "outputs": [],
   "source": [
    "import os\n",
    "import time\n",
    "import sys\n",
    "import numpy as np\n",
    "import pandas as pd\n",
    "import regex as re\n",
    "import lxml\n",
    "import numbers\n",
    "from bs4 import BeautifulSoup\n",
    "import requests"
   ]
  },
  {
   "cell_type": "code",
   "execution_count": 2,
   "id": "24245e40",
   "metadata": {},
   "outputs": [],
   "source": [
    "headers1 = {\n",
    "    'accept': 'text/html,application/xhtml+xml,application/xml;q=0.9,image/webp,image/apng,*/*;q=0.8',\n",
    "    'accept-encoding': 'gzip, deflate, br',\n",
    "    'accept-language': 'en-US,en;q=0.8',\n",
    "    'upgrade-insecure-requests': '1',\n",
    "    'user-agent': 'Mozilla/5.0 (Windows NT 10.0; Win64; x64) AppleWebKit/537.36 (KHTML, like Gecko) Chrome/61.0.3163.100 Safari/537.36'\n",
    "}"
   ]
  },
  {
   "cell_type": "code",
   "execution_count": 3,
   "id": "55029a74",
   "metadata": {},
   "outputs": [],
   "source": [
    "base_url = \"https://www.zillow.com/homes/for_sale/\""
   ]
  },
  {
   "cell_type": "code",
   "execution_count": 4,
   "id": "a54c9aa3",
   "metadata": {},
   "outputs": [],
   "source": [
    "url_list = []\n",
    "\n",
    "city = 'new york city'\n",
    "url1 = base_url +city+'/'\n",
    "url_list.append(url1)\n",
    "\n",
    "for i in range(2,21):\n",
    "    dom = base_url + city +'/'+str(i)+'_p/'\n",
    "    url_list.append(dom)"
   ]
  },
  {
   "cell_type": "code",
   "execution_count": 5,
   "id": "7a1bdf3b",
   "metadata": {},
   "outputs": [
    {
     "data": {
      "text/plain": [
       "['https://www.zillow.com/homes/for_sale/new york city/',\n",
       " 'https://www.zillow.com/homes/for_sale/new york city/2_p/',\n",
       " 'https://www.zillow.com/homes/for_sale/new york city/3_p/',\n",
       " 'https://www.zillow.com/homes/for_sale/new york city/4_p/',\n",
       " 'https://www.zillow.com/homes/for_sale/new york city/5_p/',\n",
       " 'https://www.zillow.com/homes/for_sale/new york city/6_p/',\n",
       " 'https://www.zillow.com/homes/for_sale/new york city/7_p/',\n",
       " 'https://www.zillow.com/homes/for_sale/new york city/8_p/',\n",
       " 'https://www.zillow.com/homes/for_sale/new york city/9_p/',\n",
       " 'https://www.zillow.com/homes/for_sale/new york city/10_p/',\n",
       " 'https://www.zillow.com/homes/for_sale/new york city/11_p/',\n",
       " 'https://www.zillow.com/homes/for_sale/new york city/12_p/',\n",
       " 'https://www.zillow.com/homes/for_sale/new york city/13_p/',\n",
       " 'https://www.zillow.com/homes/for_sale/new york city/14_p/',\n",
       " 'https://www.zillow.com/homes/for_sale/new york city/15_p/',\n",
       " 'https://www.zillow.com/homes/for_sale/new york city/16_p/',\n",
       " 'https://www.zillow.com/homes/for_sale/new york city/17_p/',\n",
       " 'https://www.zillow.com/homes/for_sale/new york city/18_p/',\n",
       " 'https://www.zillow.com/homes/for_sale/new york city/19_p/',\n",
       " 'https://www.zillow.com/homes/for_sale/new york city/20_p/']"
      ]
     },
     "execution_count": 5,
     "metadata": {},
     "output_type": "execute_result"
    }
   ],
   "source": [
    "url_list"
   ]
  },
  {
   "cell_type": "code",
   "execution_count": 6,
   "id": "a407cabe",
   "metadata": {},
   "outputs": [
    {
     "data": {
      "text/plain": [
       "'https://www.zillow.com/homes/for_sale/new york city/20_p/'"
      ]
     },
     "execution_count": 6,
     "metadata": {},
     "output_type": "execute_result"
    }
   ],
   "source": [
    "dom"
   ]
  },
  {
   "cell_type": "code",
   "execution_count": 7,
   "id": "189a240d",
   "metadata": {},
   "outputs": [],
   "source": [
    "def soups(data):\n",
    "    with requests.Session() as s:\n",
    "        r = s.get(data, headers=headers1)\n",
    "        soup = BeautifulSoup(r.content, 'html.parser')\n",
    "    return soup"
   ]
  },
  {
   "cell_type": "code",
   "execution_count": 8,
   "id": "70d17dbe",
   "metadata": {},
   "outputs": [
    {
     "name": "stdout",
     "output_type": "stream",
     "text": [
      "20\n"
     ]
    }
   ],
   "source": [
    "list_links = []\n",
    "\n",
    "for url in url_list:\n",
    "    htmls = soups(url)\n",
    "    list_links.append(htmls)\n",
    "print(len(list_links))"
   ]
  },
  {
   "cell_type": "code",
   "execution_count": 9,
   "id": "ddeca5a7",
   "metadata": {},
   "outputs": [],
   "source": [
    "df = pd.DataFrame()"
   ]
  },
  {
   "cell_type": "code",
   "execution_count": 10,
   "id": "be750101",
   "metadata": {},
   "outputs": [],
   "source": [
    "#extract the data we want from the html in our list.\n",
    "\n",
    "def z_soup(data):\n",
    "    \n",
    "    address = data.find_all(class_= 'list-card-addr')\n",
    "    price = list(data.find_all(class_='list-card-price'))\n",
    "    beds = list(data.find_all(\"ul\", class_=\"list-card-details\"))\n",
    "    \n",
    "     #create dataframe columns out of variables\n",
    "    df['prices'] = price\n",
    "    df['address'] = address\n",
    "    df['beds'] = beds\n",
    "    \n",
    "    return df.copy()"
   ]
  },
  {
   "cell_type": "code",
   "execution_count": 11,
   "id": "3d5c995b",
   "metadata": {},
   "outputs": [],
   "source": [
    "zillow_df = pd.DataFrame()"
   ]
  },
  {
   "cell_type": "code",
   "execution_count": 12,
   "id": "4e3bc114",
   "metadata": {},
   "outputs": [],
   "source": [
    "# Get our data from each url and put it into a list of dataframes\n",
    "\n",
    "df_list = []\n",
    "for soup in list_links:\n",
    "    new_df = z_soup(soup)\n",
    "    df_list.append(new_df)"
   ]
  },
  {
   "cell_type": "code",
   "execution_count": 13,
   "id": "81347b73",
   "metadata": {},
   "outputs": [],
   "source": [
    "# Combine the list of datasets into our new dataframe\n",
    "zillow_df = pd.concat(df_list)\n",
    "zillow_df.reset_index(inplace=True)\n",
    "zillow_df = zillow_df.drop('index', axis=1)"
   ]
  },
  {
   "cell_type": "code",
   "execution_count": 14,
   "id": "b5c85c3d",
   "metadata": {},
   "outputs": [
    {
     "name": "stdout",
     "output_type": "stream",
     "text": [
      "(180, 3)\n"
     ]
    },
    {
     "data": {
      "text/html": [
       "<div>\n",
       "<style scoped>\n",
       "    .dataframe tbody tr th:only-of-type {\n",
       "        vertical-align: middle;\n",
       "    }\n",
       "\n",
       "    .dataframe tbody tr th {\n",
       "        vertical-align: top;\n",
       "    }\n",
       "\n",
       "    .dataframe thead th {\n",
       "        text-align: right;\n",
       "    }\n",
       "</style>\n",
       "<table border=\"1\" class=\"dataframe\">\n",
       "  <thead>\n",
       "    <tr style=\"text-align: right;\">\n",
       "      <th></th>\n",
       "      <th>prices</th>\n",
       "      <th>address</th>\n",
       "      <th>beds</th>\n",
       "    </tr>\n",
       "  </thead>\n",
       "  <tbody>\n",
       "    <tr>\n",
       "      <th>0</th>\n",
       "      <td>[$466,000]</td>\n",
       "      <td>[121 Tapscott St, Brooklyn, NY 11212]</td>\n",
       "      <td>[[6, [ ,  , bds]], [2, [ ,  , ba]], [2,240, [ ...</td>\n",
       "    </tr>\n",
       "    <tr>\n",
       "      <th>1</th>\n",
       "      <td>[$899,000]</td>\n",
       "      <td>[709 E 51st St, Brooklyn, NY 11203]</td>\n",
       "      <td>[[5, [ ,  , bds]], [4, [ ,  , ba]], [3,200, [ ...</td>\n",
       "    </tr>\n",
       "    <tr>\n",
       "      <th>2</th>\n",
       "      <td>[$675,000]</td>\n",
       "      <td>[933 E 88th St, Brooklyn, NY 11236]</td>\n",
       "      <td>[[4, [ ,  , bds]], [2, [ ,  , ba]], [1,855, [ ...</td>\n",
       "    </tr>\n",
       "    <tr>\n",
       "      <th>3</th>\n",
       "      <td>[$255,000]</td>\n",
       "      <td>[24 Doscher St, Brooklyn, NY 11208]</td>\n",
       "      <td>[[5, [ ,  , bds]], [2, [ ,  , ba]], [1,404, [ ...</td>\n",
       "    </tr>\n",
       "    <tr>\n",
       "      <th>4</th>\n",
       "      <td>[$325,000]</td>\n",
       "      <td>[97 S 8th St APT 22, Brooklyn, NY 11249]</td>\n",
       "      <td>[[2, [ ,  , bds]], [1, [ ,  , ba]], [--, [ ,  ...</td>\n",
       "    </tr>\n",
       "  </tbody>\n",
       "</table>\n",
       "</div>"
      ],
      "text/plain": [
       "       prices                                   address  \\\n",
       "0  [$466,000]     [121 Tapscott St, Brooklyn, NY 11212]   \n",
       "1  [$899,000]       [709 E 51st St, Brooklyn, NY 11203]   \n",
       "2  [$675,000]       [933 E 88th St, Brooklyn, NY 11236]   \n",
       "3  [$255,000]       [24 Doscher St, Brooklyn, NY 11208]   \n",
       "4  [$325,000]  [97 S 8th St APT 22, Brooklyn, NY 11249]   \n",
       "\n",
       "                                                beds  \n",
       "0  [[6, [ ,  , bds]], [2, [ ,  , ba]], [2,240, [ ...  \n",
       "1  [[5, [ ,  , bds]], [4, [ ,  , ba]], [3,200, [ ...  \n",
       "2  [[4, [ ,  , bds]], [2, [ ,  , ba]], [1,855, [ ...  \n",
       "3  [[5, [ ,  , bds]], [2, [ ,  , ba]], [1,404, [ ...  \n",
       "4  [[2, [ ,  , bds]], [1, [ ,  , ba]], [--, [ ,  ...  "
      ]
     },
     "execution_count": 14,
     "metadata": {},
     "output_type": "execute_result"
    }
   ],
   "source": [
    "print(zillow_df.shape)\n",
    "zillow_df.head()"
   ]
  },
  {
   "cell_type": "code",
   "execution_count": 15,
   "id": "dfa71234",
   "metadata": {},
   "outputs": [],
   "source": [
    "zillow_df = zillow_df.applymap(str)"
   ]
  },
  {
   "cell_type": "code",
   "execution_count": 16,
   "id": "2cc0b443",
   "metadata": {},
   "outputs": [
    {
     "data": {
      "text/html": [
       "<div>\n",
       "<style scoped>\n",
       "    .dataframe tbody tr th:only-of-type {\n",
       "        vertical-align: middle;\n",
       "    }\n",
       "\n",
       "    .dataframe tbody tr th {\n",
       "        vertical-align: top;\n",
       "    }\n",
       "\n",
       "    .dataframe thead th {\n",
       "        text-align: right;\n",
       "    }\n",
       "</style>\n",
       "<table border=\"1\" class=\"dataframe\">\n",
       "  <thead>\n",
       "    <tr style=\"text-align: right;\">\n",
       "      <th></th>\n",
       "      <th>prices</th>\n",
       "      <th>address</th>\n",
       "      <th>beds</th>\n",
       "    </tr>\n",
       "  </thead>\n",
       "  <tbody>\n",
       "    <tr>\n",
       "      <th>0</th>\n",
       "      <td>$466,000</td>\n",
       "      <td>121 Tapscott St, Brooklyn, NY 11212</td>\n",
       "      <td>6 bds2 ba2,240 sqft- Multi-family home for sale</td>\n",
       "    </tr>\n",
       "    <tr>\n",
       "      <th>1</th>\n",
       "      <td>$899,000</td>\n",
       "      <td>709 E 51st St, Brooklyn, NY 11203</td>\n",
       "      <td>5 bds4 ba3,200 sqft- House for sale</td>\n",
       "    </tr>\n",
       "    <tr>\n",
       "      <th>2</th>\n",
       "      <td>$675,000</td>\n",
       "      <td>933 E 88th St, Brooklyn, NY 11236</td>\n",
       "      <td>4 bds2 ba1,855 sqft- House for sale</td>\n",
       "    </tr>\n",
       "    <tr>\n",
       "      <th>3</th>\n",
       "      <td>$255,000</td>\n",
       "      <td>24 Doscher St, Brooklyn, NY 11208</td>\n",
       "      <td>5 bds2 ba1,404 sqft- House for sale</td>\n",
       "    </tr>\n",
       "    <tr>\n",
       "      <th>4</th>\n",
       "      <td>$325,000</td>\n",
       "      <td>97 S 8th St APT 22, Brooklyn, NY 11249</td>\n",
       "      <td>2 bds1 ba-- sqft- Condo for sale</td>\n",
       "    </tr>\n",
       "  </tbody>\n",
       "</table>\n",
       "</div>"
      ],
      "text/plain": [
       "     prices                                 address  \\\n",
       "0  $466,000     121 Tapscott St, Brooklyn, NY 11212   \n",
       "1  $899,000       709 E 51st St, Brooklyn, NY 11203   \n",
       "2  $675,000       933 E 88th St, Brooklyn, NY 11236   \n",
       "3  $255,000       24 Doscher St, Brooklyn, NY 11208   \n",
       "4  $325,000  97 S 8th St APT 22, Brooklyn, NY 11249   \n",
       "\n",
       "                                              beds  \n",
       "0  6 bds2 ba2,240 sqft- Multi-family home for sale  \n",
       "1              5 bds4 ba3,200 sqft- House for sale  \n",
       "2              4 bds2 ba1,855 sqft- House for sale  \n",
       "3              5 bds2 ba1,404 sqft- House for sale  \n",
       "4                 2 bds1 ba-- sqft- Condo for sale  "
      ]
     },
     "execution_count": 16,
     "metadata": {},
     "output_type": "execute_result"
    }
   ],
   "source": [
    "zillow_df = zillow_df.applymap(lambda x: re.sub('<[^<]+?>', '',x))\n",
    "zillow_df.head()"
   ]
  },
  {
   "cell_type": "code",
   "execution_count": 17,
   "id": "1107ff0b",
   "metadata": {},
   "outputs": [
    {
     "data": {
      "text/html": [
       "<div>\n",
       "<style scoped>\n",
       "    .dataframe tbody tr th:only-of-type {\n",
       "        vertical-align: middle;\n",
       "    }\n",
       "\n",
       "    .dataframe tbody tr th {\n",
       "        vertical-align: top;\n",
       "    }\n",
       "\n",
       "    .dataframe thead th {\n",
       "        text-align: right;\n",
       "    }\n",
       "</style>\n",
       "<table border=\"1\" class=\"dataframe\">\n",
       "  <thead>\n",
       "    <tr style=\"text-align: right;\">\n",
       "      <th></th>\n",
       "      <th>prices</th>\n",
       "      <th>address</th>\n",
       "      <th>beds</th>\n",
       "      <th>home_type</th>\n",
       "    </tr>\n",
       "  </thead>\n",
       "  <tbody>\n",
       "    <tr>\n",
       "      <th>0</th>\n",
       "      <td>$466,000</td>\n",
       "      <td>121 Tapscott St, Brooklyn, NY 11212</td>\n",
       "      <td>6 bds2 ba2,240 sqft</td>\n",
       "      <td>Multi-family home for sale</td>\n",
       "    </tr>\n",
       "    <tr>\n",
       "      <th>1</th>\n",
       "      <td>$899,000</td>\n",
       "      <td>709 E 51st St, Brooklyn, NY 11203</td>\n",
       "      <td>5 bds4 ba3,200 sqft</td>\n",
       "      <td>House for sale</td>\n",
       "    </tr>\n",
       "    <tr>\n",
       "      <th>2</th>\n",
       "      <td>$675,000</td>\n",
       "      <td>933 E 88th St, Brooklyn, NY 11236</td>\n",
       "      <td>4 bds2 ba1,855 sqft</td>\n",
       "      <td>House for sale</td>\n",
       "    </tr>\n",
       "    <tr>\n",
       "      <th>3</th>\n",
       "      <td>$255,000</td>\n",
       "      <td>24 Doscher St, Brooklyn, NY 11208</td>\n",
       "      <td>5 bds2 ba1,404 sqft</td>\n",
       "      <td>House for sale</td>\n",
       "    </tr>\n",
       "    <tr>\n",
       "      <th>4</th>\n",
       "      <td>$325,000</td>\n",
       "      <td>97 S 8th St APT 22, Brooklyn, NY 11249</td>\n",
       "      <td>2 bds1 ba</td>\n",
       "      <td>- sqft- Condo for sale</td>\n",
       "    </tr>\n",
       "  </tbody>\n",
       "</table>\n",
       "</div>"
      ],
      "text/plain": [
       "     prices                                 address                 beds  \\\n",
       "0  $466,000     121 Tapscott St, Brooklyn, NY 11212  6 bds2 ba2,240 sqft   \n",
       "1  $899,000       709 E 51st St, Brooklyn, NY 11203  5 bds4 ba3,200 sqft   \n",
       "2  $675,000       933 E 88th St, Brooklyn, NY 11236  4 bds2 ba1,855 sqft   \n",
       "3  $255,000       24 Doscher St, Brooklyn, NY 11208  5 bds2 ba1,404 sqft   \n",
       "4  $325,000  97 S 8th St APT 22, Brooklyn, NY 11249            2 bds1 ba   \n",
       "\n",
       "                     home_type  \n",
       "0   Multi-family home for sale  \n",
       "1               House for sale  \n",
       "2               House for sale  \n",
       "3               House for sale  \n",
       "4       - sqft- Condo for sale  "
      ]
     },
     "execution_count": 17,
     "metadata": {},
     "output_type": "execute_result"
    }
   ],
   "source": [
    "zillow_df[['beds', 'home_type']] = zillow_df.beds.str.split('-',n=1, expand=True)\n",
    "zillow_df.head()"
   ]
  },
  {
   "cell_type": "code",
   "execution_count": 18,
   "id": "cb4a0f0c",
   "metadata": {},
   "outputs": [
    {
     "data": {
      "text/html": [
       "<div>\n",
       "<style scoped>\n",
       "    .dataframe tbody tr th:only-of-type {\n",
       "        vertical-align: middle;\n",
       "    }\n",
       "\n",
       "    .dataframe tbody tr th {\n",
       "        vertical-align: top;\n",
       "    }\n",
       "\n",
       "    .dataframe thead th {\n",
       "        text-align: right;\n",
       "    }\n",
       "</style>\n",
       "<table border=\"1\" class=\"dataframe\">\n",
       "  <thead>\n",
       "    <tr style=\"text-align: right;\">\n",
       "      <th></th>\n",
       "      <th>prices</th>\n",
       "      <th>address</th>\n",
       "      <th>beds</th>\n",
       "      <th>home_type</th>\n",
       "      <th>borough</th>\n",
       "      <th>zip_code</th>\n",
       "    </tr>\n",
       "  </thead>\n",
       "  <tbody>\n",
       "    <tr>\n",
       "      <th>0</th>\n",
       "      <td>$466,000</td>\n",
       "      <td>121 Tapscott St</td>\n",
       "      <td>6 bds2 ba2,240 sqft</td>\n",
       "      <td>Multi-family home for sale</td>\n",
       "      <td>Brooklyn</td>\n",
       "      <td>NY 11212</td>\n",
       "    </tr>\n",
       "    <tr>\n",
       "      <th>1</th>\n",
       "      <td>$899,000</td>\n",
       "      <td>709 E 51st St</td>\n",
       "      <td>5 bds4 ba3,200 sqft</td>\n",
       "      <td>House for sale</td>\n",
       "      <td>Brooklyn</td>\n",
       "      <td>NY 11203</td>\n",
       "    </tr>\n",
       "    <tr>\n",
       "      <th>2</th>\n",
       "      <td>$675,000</td>\n",
       "      <td>933 E 88th St</td>\n",
       "      <td>4 bds2 ba1,855 sqft</td>\n",
       "      <td>House for sale</td>\n",
       "      <td>Brooklyn</td>\n",
       "      <td>NY 11236</td>\n",
       "    </tr>\n",
       "    <tr>\n",
       "      <th>3</th>\n",
       "      <td>$255,000</td>\n",
       "      <td>24 Doscher St</td>\n",
       "      <td>5 bds2 ba1,404 sqft</td>\n",
       "      <td>House for sale</td>\n",
       "      <td>Brooklyn</td>\n",
       "      <td>NY 11208</td>\n",
       "    </tr>\n",
       "    <tr>\n",
       "      <th>4</th>\n",
       "      <td>$325,000</td>\n",
       "      <td>97 S 8th St APT 22</td>\n",
       "      <td>2 bds1 ba</td>\n",
       "      <td>- sqft- Condo for sale</td>\n",
       "      <td>Brooklyn</td>\n",
       "      <td>NY 11249</td>\n",
       "    </tr>\n",
       "  </tbody>\n",
       "</table>\n",
       "</div>"
      ],
      "text/plain": [
       "     prices             address                 beds  \\\n",
       "0  $466,000     121 Tapscott St  6 bds2 ba2,240 sqft   \n",
       "1  $899,000       709 E 51st St  5 bds4 ba3,200 sqft   \n",
       "2  $675,000       933 E 88th St  4 bds2 ba1,855 sqft   \n",
       "3  $255,000       24 Doscher St  5 bds2 ba1,404 sqft   \n",
       "4  $325,000  97 S 8th St APT 22            2 bds1 ba   \n",
       "\n",
       "                     home_type    borough   zip_code  \n",
       "0   Multi-family home for sale   Brooklyn   NY 11212  \n",
       "1               House for sale   Brooklyn   NY 11203  \n",
       "2               House for sale   Brooklyn   NY 11236  \n",
       "3               House for sale   Brooklyn   NY 11208  \n",
       "4       - sqft- Condo for sale   Brooklyn   NY 11249  "
      ]
     },
     "execution_count": 18,
     "metadata": {},
     "output_type": "execute_result"
    }
   ],
   "source": [
    "zillow_df[['address', 'borough','zip_code']] = zillow_df.address.str.split(\",\", expand=True)\n",
    "zillow_df.head()"
   ]
  },
  {
   "cell_type": "code",
   "execution_count": 20,
   "id": "491d1c20",
   "metadata": {},
   "outputs": [],
   "source": [
    "# separate beds column into bed, bath, and sq_feet\n",
    "\n",
    "zillow_df[['beds', 'baths', 'sqft']] = zillow_df.beds.str.split(' ',n=2, expand=True)\n",
    "zillow_df['sqft'] = zillow_df.sqft.str.replace(\",\", \"\")"
   ]
  },
  {
   "cell_type": "code",
   "execution_count": 21,
   "id": "9bf653e9",
   "metadata": {},
   "outputs": [],
   "source": [
    "# extract only the digits from the columns\n",
    "zillow_df['beds'] = zillow_df.beds.str.extract('(\\d+)')\n",
    "zillow_df['baths'] = zillow_df.baths.str.extract('(\\d+)')\n",
    "zillow_df['sqft'] = zillow_df.sqft.str.extract('(\\d+)')"
   ]
  },
  {
   "cell_type": "code",
   "execution_count": 22,
   "id": "512d2604",
   "metadata": {},
   "outputs": [],
   "source": [
    "# convert columns to float\n",
    "zillow_df['beds'] = zillow_df['beds'].astype('float')\n",
    "zillow_df['baths'] = zillow_df['baths'].astype('float')\n",
    "zillow_df['sqft'] = zillow_df['sqft'].astype('float')"
   ]
  },
  {
   "cell_type": "code",
   "execution_count": 23,
   "id": "802b1884",
   "metadata": {},
   "outputs": [
    {
     "data": {
      "text/html": [
       "<div>\n",
       "<style scoped>\n",
       "    .dataframe tbody tr th:only-of-type {\n",
       "        vertical-align: middle;\n",
       "    }\n",
       "\n",
       "    .dataframe tbody tr th {\n",
       "        vertical-align: top;\n",
       "    }\n",
       "\n",
       "    .dataframe thead th {\n",
       "        text-align: right;\n",
       "    }\n",
       "</style>\n",
       "<table border=\"1\" class=\"dataframe\">\n",
       "  <thead>\n",
       "    <tr style=\"text-align: right;\">\n",
       "      <th></th>\n",
       "      <th>prices</th>\n",
       "      <th>address</th>\n",
       "      <th>beds</th>\n",
       "      <th>home_type</th>\n",
       "      <th>borough</th>\n",
       "      <th>zip_code</th>\n",
       "      <th>baths</th>\n",
       "      <th>sqft</th>\n",
       "    </tr>\n",
       "  </thead>\n",
       "  <tbody>\n",
       "    <tr>\n",
       "      <th>175</th>\n",
       "      <td>$599,000</td>\n",
       "      <td>230 Jay St #5F</td>\n",
       "      <td>1.0</td>\n",
       "      <td>Condo for sale</td>\n",
       "      <td>Brooklyn</td>\n",
       "      <td>NY 11201</td>\n",
       "      <td>1.0</td>\n",
       "      <td>700.0</td>\n",
       "    </tr>\n",
       "    <tr>\n",
       "      <th>176</th>\n",
       "      <td>$625,000</td>\n",
       "      <td>431 E 32nd St</td>\n",
       "      <td>4.0</td>\n",
       "      <td>House for sale</td>\n",
       "      <td>Brooklyn</td>\n",
       "      <td>NY 11226</td>\n",
       "      <td>2.0</td>\n",
       "      <td>2500.0</td>\n",
       "    </tr>\n",
       "    <tr>\n",
       "      <th>177</th>\n",
       "      <td>$890,000</td>\n",
       "      <td>1 Hanson Pl APT 10A</td>\n",
       "      <td>1.0</td>\n",
       "      <td>Condo for sale</td>\n",
       "      <td>Brooklyn</td>\n",
       "      <td>NY 11243</td>\n",
       "      <td>2.0</td>\n",
       "      <td>824.0</td>\n",
       "    </tr>\n",
       "    <tr>\n",
       "      <th>178</th>\n",
       "      <td>$2,000,000</td>\n",
       "      <td>51 Jay St #4L</td>\n",
       "      <td>2.0</td>\n",
       "      <td>Condo for sale</td>\n",
       "      <td>Brooklyn</td>\n",
       "      <td>NY 11201</td>\n",
       "      <td>2.0</td>\n",
       "      <td>1287.0</td>\n",
       "    </tr>\n",
       "    <tr>\n",
       "      <th>179</th>\n",
       "      <td>$215,000</td>\n",
       "      <td>2212 Brigham St APT 3C</td>\n",
       "      <td>3.0</td>\n",
       "      <td>Condo for sale</td>\n",
       "      <td>Brooklyn</td>\n",
       "      <td>NY 11229</td>\n",
       "      <td>1.0</td>\n",
       "      <td>1100.0</td>\n",
       "    </tr>\n",
       "  </tbody>\n",
       "</table>\n",
       "</div>"
      ],
      "text/plain": [
       "         prices                 address  beds        home_type    borough  \\\n",
       "175    $599,000          230 Jay St #5F   1.0   Condo for sale   Brooklyn   \n",
       "176    $625,000           431 E 32nd St   4.0   House for sale   Brooklyn   \n",
       "177    $890,000     1 Hanson Pl APT 10A   1.0   Condo for sale   Brooklyn   \n",
       "178  $2,000,000           51 Jay St #4L   2.0   Condo for sale   Brooklyn   \n",
       "179    $215,000  2212 Brigham St APT 3C   3.0   Condo for sale   Brooklyn   \n",
       "\n",
       "      zip_code  baths    sqft  \n",
       "175   NY 11201    1.0   700.0  \n",
       "176   NY 11226    2.0  2500.0  \n",
       "177   NY 11243    2.0   824.0  \n",
       "178   NY 11201    2.0  1287.0  \n",
       "179   NY 11229    1.0  1100.0  "
      ]
     },
     "execution_count": 23,
     "metadata": {},
     "output_type": "execute_result"
    }
   ],
   "source": [
    "zillow_df.tail()"
   ]
  }
 ],
 "metadata": {
  "kernelspec": {
   "display_name": "Python 3",
   "language": "python",
   "name": "python3"
  },
  "language_info": {
   "codemirror_mode": {
    "name": "ipython",
    "version": 3
   },
   "file_extension": ".py",
   "mimetype": "text/x-python",
   "name": "python",
   "nbconvert_exporter": "python",
   "pygments_lexer": "ipython3",
   "version": "3.8.8"
  }
 },
 "nbformat": 4,
 "nbformat_minor": 5
}
